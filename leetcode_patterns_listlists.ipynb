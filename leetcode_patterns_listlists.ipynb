{
  "nbformat": 4,
  "nbformat_minor": 0,
  "metadata": {
    "colab": {
      "provenance": [],
      "authorship_tag": "ABX9TyPr7MSAgRKfftF/Dt4c5KlJ",
      "include_colab_link": true
    },
    "kernelspec": {
      "name": "python3",
      "display_name": "Python 3"
    },
    "language_info": {
      "name": "python"
    }
  },
  "cells": [
    {
      "cell_type": "markdown",
      "metadata": {
        "id": "view-in-github",
        "colab_type": "text"
      },
      "source": [
        "<a href=\"https://colab.research.google.com/github/blacktalenthubs/daily-check-in/blob/main/leetcode_patterns_listlists.ipynb\" target=\"_parent\"><img src=\"https://colab.research.google.com/assets/colab-badge.svg\" alt=\"Open In Colab\"/></a>"
      ]
    },
    {
      "cell_type": "markdown",
      "source": [
        "\n",
        "### Patterns and Approaches\n",
        "\n",
        "1. **Two Pointers (Fast and Slow Pointers):**\n",
        "   - **Usage:** Detecting cycles, finding the middle of the list, or comparing two halves of the list.\n",
        "   - **Approach:**\n",
        "     - Use two pointers that move at different speeds (usually fast moves two steps, and slow moves one step).\n",
        "     - For detecting a cycle, if the fast pointer meets the slow pointer, there is a cycle.\n",
        "     - For finding the middle, when the fast pointer reaches the end, the slow pointer will be at the middle.\n",
        "\n",
        "2. **Reversing a Linked List:**\n",
        "   - **Usage:** Commonly used as a subroutine in many linked list problems.\n",
        "   - **Approach:**\n",
        "     - Use three pointers: `prev`, `current`, and `next`.\n",
        "     - Iterate through the list, reversing the links as you go.\n",
        "\n",
        "3. **Dummy Nodes:**\n",
        "   - **Usage:** Simplify edge cases in operations like merging or removing nodes.\n",
        "   - **Approach:**\n",
        "     - Create a dummy node that precedes the actual head of the list.\n",
        "     - Perform operations starting from the dummy node to handle edge cases gracefully.\n",
        "\n",
        "4. **Recursive Approach:**\n",
        "   - **Usage:** Problems that can be broken down into similar sub-problems, such as reversing or manipulating parts of the list.\n",
        "   - **Approach:**\n",
        "     - Use the function call stack to handle the traversal, leveraging the natural order of recursive calls to manage list nodes.\n",
        "\n",
        "5. **Stack:**\n",
        "   - **Usage:** Problems involving reversing or comparing nodes in non-linear order, such as checking for a palindrome.\n",
        "   - **Approach:**\n",
        "     - Traverse the list and push elements onto the stack.\n",
        "     - Traverse the list again and compare elements popped from the stack.\n",
        "\n",
        "### Detailed Explanation for Specific Problems\n",
        "\n",
        "#### 1. Reverse a Linked List\n",
        "\n",
        "**Pattern:**\n",
        "- **In-Place Reversal:** Use pointers to reverse the links between nodes.\n",
        "\n",
        "**Approach:**\n",
        "1. Initialize three pointers: `prev` (set to `None`), `current` (set to `head`), and `next` (set to `None`).\n",
        "2. Iterate through the list:\n",
        "   - Save the next node (`next = current.next`).\n",
        "   - Reverse the link (`current.next = prev`).\n",
        "   - Move the `prev` and `current` pointers one step forward.\n",
        "3. When `current` becomes `None`, `prev` will be the new head of the reversed list.\n",
        "\n",
        "#### 2. Palindrome Linked List\n",
        "\n",
        "**Pattern:**\n",
        "- **Two Pointers and Reversal:** Use the two-pointer technique to find the middle and reverse the second half for comparison.\n",
        "\n",
        "**Approach:**\n",
        "1. Use fast and slow pointers to find the middle of the list.\n",
        "2. Reverse the second half of the list.\n",
        "3. Compare the first half with the reversed second half.\n",
        "4. (Optional) Restore the list to its original state.\n",
        "\n",
        "#### 3. Merge Two Sorted Lists\n",
        "\n",
        "**Pattern:**\n",
        "- **Two Pointers:** Use pointers to traverse both lists and merge them.\n",
        "\n",
        "**Approach:**\n",
        "1. Use a dummy node to simplify the merge process.\n",
        "2. Use two pointers to traverse the lists.\n",
        "3. Compare the values at each pointer and attach the smaller node to the merged list.\n",
        "4. Move the pointers accordingly until one list is exhausted.\n",
        "5. Attach the remaining nodes of the non-exhausted list to the merged list.\n",
        "\n",
        "#### 4. Remove Nth Node From End of List\n",
        "\n",
        "**Pattern:**\n",
        "- **Two Pointers:** Use a two-pointer approach to find the node to remove.\n",
        "\n",
        "**Approach:**\n",
        "1. Use a dummy node to handle edge cases.\n",
        "2. Move the first pointer `n+1` steps ahead.\n",
        "3. Move both pointers until the first pointer reaches the end.\n",
        "4. The second pointer will be at the node before the target node.\n",
        "5. Remove the target node by changing the `next` pointer of the second pointer.\n",
        "\n",
        "#### 5. Linked List Cycle\n",
        "\n",
        "**Pattern:**\n",
        "- **Two Pointers (Cycle Detection):** Use fast and slow pointers to detect a cycle.\n",
        "\n",
        "**Approach:**\n",
        "1. Initialize two pointers: `slow` (moves one step) and `fast` (moves two steps).\n",
        "2. Iterate through the list:\n",
        "   - If `fast` meets `slow`, a cycle exists.\n",
        "   - If `fast` reaches the end, there is no cycle."
      ],
      "metadata": {
        "id": "VEhZNkD0aifh"
      }
    },
    {
      "cell_type": "code",
      "source": [
        "class Node:\n",
        "\n",
        "  def __init__(self,val=0,next=None):\n",
        "    self.val = val\n",
        "    self.next = next"
      ],
      "metadata": {
        "id": "I5vFN9J6bTde"
      },
      "execution_count": 1,
      "outputs": []
    },
    {
      "cell_type": "code",
      "source": [
        "def has_cycle(head):\n",
        "  slow = head\n",
        "  fast = head\n",
        "\n",
        "  while fast and fast.next:\n",
        "    fast = fast.next.next\n",
        "    slow = slow.next\n",
        "\n",
        "    if slow != fast:\n",
        "      return False\n",
        "\n",
        "  return True"
      ],
      "metadata": {
        "id": "IpET9lmPb5OM"
      },
      "execution_count": 2,
      "outputs": []
    },
    {
      "cell_type": "markdown",
      "source": [],
      "metadata": {
        "id": "GctWNAUNayOE"
      }
    }
  ]
}