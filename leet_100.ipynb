{
  "nbformat": 4,
  "nbformat_minor": 0,
  "metadata": {
    "colab": {
      "provenance": [],
      "authorship_tag": "ABX9TyNdwKGwKoDHKoHXZ3dz59iN",
      "include_colab_link": true
    },
    "kernelspec": {
      "name": "python3",
      "display_name": "Python 3"
    },
    "language_info": {
      "name": "python"
    }
  },
  "cells": [
    {
      "cell_type": "markdown",
      "metadata": {
        "id": "view-in-github",
        "colab_type": "text"
      },
      "source": [
        "<a href=\"https://colab.research.google.com/github/blacktalenthubs/daily-check-in/blob/main/leet_100.ipynb\" target=\"_parent\"><img src=\"https://colab.research.google.com/assets/colab-badge.svg\" alt=\"Open In Colab\"/></a>"
      ]
    },
    {
      "cell_type": "code",
      "execution_count": null,
      "metadata": {
        "id": "impvfXtaCi8C"
      },
      "outputs": [],
      "source": [
        "class Node:\n",
        "  def __init__(self, value):\n",
        "    self.value = value\n",
        "    self.next = None\n",
        "\n",
        "\n",
        "def is_symmetric(Node:root):\n",
        "  if root == None:\n",
        "    return True\n",
        "\n",
        "  return helper(root.left,root.right)\n",
        "\n",
        "\n",
        "def helper(Node left,Node right):\n",
        "\n",
        "  if left == None and right == None:\n",
        "    return True\n",
        "\n",
        "  if left == None or right == None:\n",
        "    return False\n",
        "\n",
        "  return root.left == root.right and helper(root.left,root.right)\n",
        "\n"
      ]
    }
  ]
}